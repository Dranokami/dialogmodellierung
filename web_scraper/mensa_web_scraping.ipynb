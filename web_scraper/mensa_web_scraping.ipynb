{
 "cells": [
  {
   "cell_type": "code",
   "execution_count": 1,
   "metadata": {
    "collapsed": true
   },
   "outputs": [],
   "source": [
    "from bs4 import BeautifulSoup\n",
    "import urllib,re,datetime"
   ]
  },
  {
   "cell_type": "code",
   "execution_count": 2,
   "metadata": {
    "collapsed": true
   },
   "outputs": [],
   "source": [
    "datumsliste = list()\n",
    "dishes_day_by_day = list()"
   ]
  },
  {
   "cell_type": "code",
   "execution_count": 3,
   "metadata": {
    "collapsed": true
   },
   "outputs": [],
   "source": [
    "URL = \"http://www.studierendenwerk-bielefeld.de/essen-trinken/essen-und-trinken-in-mensen/bielefeld/mensa-gebaeude-x.html\"\n",
    "mensa_doc = urllib.urlopen(URL).read()\n",
    "soup = BeautifulSoup(mensa_doc, 'html.parser')"
   ]
  },
  {
   "cell_type": "code",
   "execution_count": 4,
   "metadata": {
    "collapsed": false
   },
   "outputs": [],
   "source": [
    "#eliminate <sup>-tags\n",
    "for tag in soup.findAll('sup'):\n",
    "    tag.decompose()"
   ]
  },
  {
   "cell_type": "code",
   "execution_count": 8,
   "metadata": {
    "collapsed": false
   },
   "outputs": [],
   "source": [
    "#extract dates\n",
    "compiler = re.compile(r\"[0-3][0-9]\\.[0-1][0-9]\\.20[0-9][0-9]\")\n",
    "datumliste = [datetime.datetime.strptime(compiler.search(f.text).group(),\"%d.%m.%Y\").strftime(\"%Y-%m-%d\") for f in soup.findAll('h2') if compiler.search(f.text)]"
   ]
  },
  {
   "cell_type": "code",
   "execution_count": 6,
   "metadata": {
    "collapsed": false
   },
   "outputs": [],
   "source": [
    "#exctract dishes\n",
    "for heading in soup.findAll('div'):\n",
    "    temp_dict = dict()\n",
    "    if heading.get('class') == [u'mensa', u'plan']:\n",
    "        raw_path = heading.div.table.tbody.tr\n",
    "        temp_dict['maindish'] =  raw_path.td.p.p.text \n",
    "        temp_dict['veggiedish'] =  raw_path.next_sibling.next_sibling.td.p.p.text\n",
    "            \n",
    "        temp_dict['vital'] = raw_path.next_sibling.next_sibling.next_sibling.next_sibling.td.p.p.text\n",
    "            \n",
    "        raw_path.next_sibling.next_sibling.td.p.p.next_sibling.next_sibling.text\n",
    "        sidedishes_set = set(raw_path.next_sibling.next_sibling.td.p.p.next_sibling.next_sibling.text.split(',')).union(set(raw_path.td.p.p.next_sibling.next_sibling.text.split(',')))\n",
    "        temp_dict['sidedish'] = ', '.join(sidedishes_set)\n",
    "        dishes_day_by_day.append(temp_dict)"
   ]
  },
  {
   "cell_type": "code",
   "execution_count": 9,
   "metadata": {
    "collapsed": false,
    "scrolled": true
   },
   "outputs": [],
   "source": [
    "return_ = dict(zip(datumliste,dishes_day_by_day))"
   ]
  },
  {
   "cell_type": "code",
   "execution_count": 10,
   "metadata": {
    "collapsed": false
   },
   "outputs": [
    {
     "data": {
      "text/plain": [
       "{'2017-09-04': {'maindish': u'Schweinelachsschnitzel im Backteig mit Tomatenso\\xdfe',\n",
       "  'sidedish': u' Beilagensalate,  Delikatessbohnen ,  Pfirsich-Vanille-Quark oder Eis,  Schokoladenpudding,  Crazy Chips,  Erdbeerjoghurt, Salzkartoffeln,  Broccoli',\n",
       "  'veggiedish': u'M\\xf6hrenpuffer mit Sauerrahm-Dip',\n",
       "  'vital': u'K\\xfcrbis-Linsen-Gem\\xfcse auf Rucola-Penne'},\n",
       " '2017-09-05': {'maindish': u'Alaska Seelachsfilet mit hausgemachter Remouladenso\\xdfe',\n",
       "  'sidedish': u' Beilagensalate,  Himbeerjoghurt,  Pariser Karotten, Langkornreis,  G\\xf6tterspeise oder Eis,  Mandarinen-Dickmilch',\n",
       "  'veggiedish': u'Vegetarisch gef\\xfcllte Paprikaschote mit Drei-K\\xe4se-So\\xdfe',\n",
       "  'vital': u'Mediterrane H\\xe4hnchenpfanne mit Mandel-Romanesco und Kurkumareis'},\n",
       " '2017-09-06': {'maindish': u'H\\xe4hnchenkeule mit Chili-Pfeffer-Dip',\n",
       "  'sidedish': u' Beilagensalate,  Kaisergem\\xfcse,  Heidelbeerquark oder Eis,  Vanillepudding, bunte Spirali, Salzkartoffeln,  Sauerkirsch-Dickmilch,  Rahmwirsing ',\n",
       "  'veggiedish': u'Blumenkohl-K\\xe4semedaillon mit Tomaten-K\\xe4se-So\\xdfe',\n",
       "  'vital': u'Feuriges Gem\\xfcse-Fisch-Curry mit Ingwerreis'},\n",
       " '2017-09-07': {'maindish': u'Cordon bleu vom Schwein mit J\\xe4gerso\\xdfe',\n",
       "  'sidedish': u' Joghurt-Apfel-M\\xfcsli,  Erdbeerquark,  Beilagensalate, Kartoffel-M\\xf6hren-Stampf,  Leipziger Allerlei,  Basmatireis,  vegan oder Eis,  Romanesco-Blumenkohlgem\\xfcse,  asiatisches Bratgem\\xfcse,  Milchreis mit Zimt und Zucker',\n",
       "  'veggiedish': u'Fr\\xfchlingsr\\xf6llchen mit Sweet-Chili-Dip',\n",
       "  'vital': u'Putengeschnetzeltes \"Thail\\xe4ndische Art\" mit Basmatireis'},\n",
       " '2017-09-08': {'maindish': u'H\\xe4hnchenbrustfilet natur  mit Paprikaso\\xdfe',\n",
       "  'sidedish': u' Ratatouille,  Beilagensalate, Bulgur, Bratkartoffeln,  Bulgur,  M\\xf6hrengem\\xfcse,  Kokosquark,  Himbeer-Dickmilch oder Eis,  Chili-Honigkartoffeln',\n",
       "  'veggiedish': u'Broccoli-Nuggets mit Champignonrahmso\\xdfe',\n",
       "  'vital': u'Tagliatelle mit Spinat-Tomaten-Frischk\\xe4se-So\\xdfe und Rucola'}}"
      ]
     },
     "execution_count": 10,
     "metadata": {},
     "output_type": "execute_result"
    }
   ],
   "source": [
    "return_"
   ]
  },
  {
   "cell_type": "code",
   "execution_count": null,
   "metadata": {
    "collapsed": true
   },
   "outputs": [],
   "source": []
  }
 ],
 "metadata": {
  "kernelspec": {
   "display_name": "Python 2",
   "language": "python",
   "name": "python2"
  },
  "language_info": {
   "codemirror_mode": {
    "name": "ipython",
    "version": 2
   },
   "file_extension": ".py",
   "mimetype": "text/x-python",
   "name": "python",
   "nbconvert_exporter": "python",
   "pygments_lexer": "ipython2",
   "version": "2.7.13"
  }
 },
 "nbformat": 4,
 "nbformat_minor": 0
}
